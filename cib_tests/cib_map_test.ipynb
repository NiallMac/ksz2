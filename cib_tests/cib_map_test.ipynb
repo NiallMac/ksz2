{
 "cells": [
  {
   "cell_type": "code",
   "execution_count": 1,
   "id": "f058a902-d926-4b5b-8d82-eee089c4e4b2",
   "metadata": {},
   "outputs": [
    {
     "name": "stderr",
     "output_type": "stream",
     "text": [
      "/global/u1/m/maccrann/cmb/ksz2/prepare_maps.py:48: YAMLLoadWarning: calling yaml.load() without Loader=... is deprecated, as the default Loader is unsafe. Please read https://msg.pyyaml.org/load for full details.\n",
      "  DEFAULTS=yaml.load(f)\n"
     ]
    }
   ],
   "source": [
    "import healpy as hp\n",
    "import matplotlib\n",
    "import matplotlib.pyplot as plt\n",
    "import os\n",
    "os.environ['DISABLE_MPI']=\"true\"\n",
    "import numpy as np\n",
    "from falafel import utils, qe\n",
    "import pytempura\n",
    "import solenspipe\n",
    "from pixell import lensing, curvedsky, enmap\n",
    "from pixell import utils as putils\n",
    "from os.path import join as opj\n",
    "import argparse\n",
    "import yaml\n",
    "from collections import OrderedDict\n",
    "from prepare_maps import safe_mkdir, get_disable_mpi, DEFAULTS, get_cmb_alm_unlensed, get_cmb_seeds\n",
    "from orphics import maps\n",
    "from websky_model import WebSky, CONVERSION_FACTORS\n",
    "from copy import deepcopy\n",
    "import sys\n",
    "from scipy.signal import savgol_filter"
   ]
  },
  {
   "cell_type": "markdown",
   "id": "4508fdbe-2828-42ce-a16f-d4a54dfb3fc9",
   "metadata": {},
   "source": [
    "Set some options e.g. l ranges, beam, noise level for filters  "
   ]
  },
  {
   "cell_type": "code",
   "execution_count": 2,
   "id": "d095b00c-d518-417a-a6a3-213b79f81b63",
   "metadata": {},
   "outputs": [],
   "source": [
    "#lmax for SHTs\n",
    "mlmax=4000\n",
    "#lmin and lmax for filter\n",
    "lmin=3000\n",
    "lmax=4000\n",
    "#beam and noise\n",
    "noise_sigma = 10.\n",
    "beam_fwhm = 1.\n",
    "ells = np.arange(mlmax+1)\n",
    "bfact = maps.gauss_beam(beam_fwhm,ells)**2.\n",
    "Nl_tt = (noise_sigma*np.pi/180./60.)**2./bfact\n",
    "nells = {\"TT\":Nl_tt, \"EE\":2*Nl_tt, \"BB\":2*Nl_tt}"
   ]
  },
  {
   "cell_type": "code",
   "execution_count": 57,
   "id": "597e586a-819c-4671-9529-ba632a45ae5a",
   "metadata": {},
   "outputs": [],
   "source": [
    "#CMB theory for filters                                                                                                                                                                                 \n",
    "ucls,tcls = utils.get_theory_dicts(grad=False,\n",
    "                                   nells=nells, lmax=mlmax)"
   ]
  },
  {
   "cell_type": "markdown",
   "id": "208e81fc-a61d-47d2-9ffa-126d9c063fc2",
   "metadata": {},
   "source": [
    "Read in CIB map, convert to temperature, and then to alms"
   ]
  },
  {
   "cell_type": "code",
   "execution_count": 4,
   "id": "49064c53-0f80-4810-886d-f5ea6ef4f8f9",
   "metadata": {},
   "outputs": [
    {
     "name": "stderr",
     "output_type": "stream",
     "text": [
      "/global/homes/m/maccrann/.conda/envs/lenspipe/lib/python3.7/site-packages/ipykernel_launcher.py:17: RuntimeWarning: divide by zero encountered in true_divide\n"
     ]
    }
   ],
   "source": [
    "#And ksz2 filter                                                                                                                                                                                        \n",
    "#Read alms and get (smoothed) Cl for filter                                                                                                                                                                                                                                                                                                                                                      \n",
    "alm_file = \"tests/alms_4e3_2048_50_50_ksz.fits\"\n",
    "ksz_alms=hp.fitsfunc.read_alm(alm_file)\n",
    "alm_lmax=hp.Alm.getlmax(len(ksz_alms))\n",
    "if alm_lmax>mlmax:\n",
    "    ksz_alms = utils.change_alm_lmax(\n",
    "        ksz_alms, mlmax)\n",
    "elif alm_lmax<mlmax:\n",
    "    raise ValueError(\"alm_lmax (=%d) < mlmax (=%d)\"%(\n",
    "        alm_lmax, mlmax)\n",
    "                     )\n",
    "    \n",
    "cl = curvedsky.alm2cl(ksz_alms)\n",
    "d = ells*(ells+1)*cl\n",
    "d_smooth = savgol_filter(d, 101, 3)\n",
    "cl_smooth = d_smooth/ells/(ells+1)\n",
    "cl_smooth[0]=0.\n",
    "profile = cl_smooth**0.5\n",
    "\n",
    "#Add kSZ cl to total Cl. Not sure if this \n",
    "#makes much difference.\n",
    "cl_tt_total = tcls['TT'] + cl_smooth\n",
    "\n",
    "def apply_W_filter(alms, lmin, lmax):\n",
    "    f = np.zeros(mlmax+1)\n",
    "    f[lmin:lmax+1] = (profile / cl_tt_total)[lmin:lmax+1]\n",
    "    return curvedsky.almxfl(alms, f)\n",
    "\n",
    "def get_cl_KK(alms, lmin, lmax):\n",
    "    alms_filtered = apply_W_filter(alms, lmin, lmax)\n",
    "    print(alms_filtered.shape)\n",
    "    K_map = (hp.alm2map(alms_filtered, 4096))**2\n",
    "    return hp.anafast(K_map, lmax=mlmax)"
   ]
  },
  {
   "cell_type": "code",
   "execution_count": 58,
   "id": "807ce8bb-a95f-4a74-baa0-3f5ded4666b9",
   "metadata": {},
   "outputs": [
    {
     "name": "stderr",
     "output_type": "stream",
     "text": [
      "/global/u1/m/maccrann/cmb/lensing/code/tempura/pytempura/norm.py:104: RuntimeWarning: divide by zero encountered in true_divide\n",
      "  cl_tt = tcl['TT'][:k_ellmax+1]/profile**2\n",
      "/global/homes/m/maccrann/.conda/envs/lenspipe/lib/python3.7/site-packages/ipykernel_launcher.py:10: RuntimeWarning: divide by zero encountered in reciprocal\n",
      "  # Remove the CWD from sys.path while we load stuff.\n",
      "/global/homes/m/maccrann/.conda/envs/lenspipe/lib/python3.7/site-packages/ipykernel_launcher.py:10: RuntimeWarning: invalid value encountered in multiply\n",
      "  # Remove the CWD from sys.path while we load stuff.\n"
     ]
    }
   ],
   "source": [
    "#Also get a CMB N_0\n",
    "#Can we use tempura for this?\n",
    "import pytempura\n",
    "tcls['TT']+=cl_smooth\n",
    "cmb_norm_source = pytempura.get_norms(\n",
    "        ['src'], ucls, tcls,\n",
    "        lmin, lmax, k_ellmax=mlmax,\n",
    "        profile=profile)['src']\n",
    "#I think normalization for K should be \n",
    "cmb_N0 = 4 * cl_smooth * cmb_norm_source**-1"
   ]
  },
  {
   "cell_type": "code",
   "execution_count": 60,
   "id": "615d7377-813b-4507-8a37-f309df51e1ea",
   "metadata": {},
   "outputs": [
    {
     "name": "stdout",
     "output_type": "stream",
     "text": [
      "(8006001,)\n",
      "(8006001,)\n",
      "(8006001,)\n"
     ]
    }
   ],
   "source": [
    "#Test by comparison to random realization\n",
    "cmb_alm = get_cmb_alm_unlensed(0,0)[0]\n",
    "cmb_alm = utils.change_alm_lmax(\n",
    "                cmb_alm, mlmax)\n",
    "print(cmb_alm.shape)\n",
    "noise_alm = curvedsky.rand_alm(nells['TT'], seed=1234)\n",
    "ksz_alm = curvedsky.rand_alm(cl_smooth, seed=1235)\n",
    "cmb_alm += noise_alm\n",
    "cmb_alm += ksz_alm\n",
    "print(cmb_alm.shape)\n",
    "cmb_cl_KK = get_cl_KK(cmb_alm, lmin, lmax)"
   ]
  },
  {
   "cell_type": "code",
   "execution_count": 61,
   "id": "a406deb5-826c-4bf8-9c50-e130ef151063",
   "metadata": {},
   "outputs": [
    {
     "data": {
      "text/plain": [
       "[<matplotlib.lines.Line2D at 0x2aab2af99ad0>]"
      ]
     },
     "execution_count": 61,
     "metadata": {},
     "output_type": "execute_result"
    },
    {
     "data": {
      "image/png": "[encoded data removed]",
      "text/plain": [
       "<Figure size 432x288 with 1 Axes>"
      ]
     },
     "metadata": {
      "needs_background": "light"
     },
     "output_type": "display_data"
    }
   ],
   "source": [
    "%matplotlib inline\n",
    "fig,ax=plt.subplots()\n",
    "#ax.plot(cmb_N0[:1000])\n",
    "#ax.plot(cmb_cl_KK[:1000])\n",
    "#ax.set_yscale('log')\n",
    "#ax.set_ylim([1.e2, 1.e4])\n",
    "ax.plot(cmb_cl_KK[:1000] / cmb_N0[:1000])"
   ]
  },
  {
   "cell_type": "code",
   "execution_count": 12,
   "id": "f18ede7a-eb1c-4fb7-a466-d699c9a7a346",
   "metadata": {},
   "outputs": [
    {
     "name": "stderr",
     "output_type": "stream",
     "text": [
      "/global/homes/m/maccrann/.conda/envs/lenspipe/lib/python3.7/site-packages/healpy/fitsfunc.py:369: UserWarning: If you are not specifying the input dtype and using the default np.float64 dtype of read_map(), please consider that it will change in a future version to None as to keep the same dtype of the input file: please explicitly set the dtype if it is important to you.\n",
      "  \"If you are not specifying the input dtype and using the default \"\n",
      "/global/homes/m/maccrann/.conda/envs/lenspipe/lib/python3.7/site-packages/healpy/fitsfunc.py:391: UserWarning: NSIDE = 4096\n",
      "  warnings.warn(\"NSIDE = {0:d}\".format(nside))\n",
      "/global/homes/m/maccrann/.conda/envs/lenspipe/lib/python3.7/site-packages/healpy/fitsfunc.py:400: UserWarning: ORDERING = RING in fits file\n",
      "  warnings.warn(\"ORDERING = {0:s} in fits file\".format(ordering))\n",
      "/global/homes/m/maccrann/.conda/envs/lenspipe/lib/python3.7/site-packages/healpy/fitsfunc.py:428: UserWarning: INDXSCHM = IMPLICIT\n",
      "  warnings.warn(\"INDXSCHM = {0:s}\".format(schm))\n"
     ]
    },
    {
     "name": "stdout",
     "output_type": "stream",
     "text": [
      "flux cut masking f_sky: 3.129243850708008e-06\n",
      "545 GHz cut masking f_sky: 8.057554562886556e-05\n"
     ]
    }
   ],
   "source": [
    "nu = \"0093\"\n",
    "cib_map = hp.read_map(\"/global/cscratch1/sd/maccrann/cmb/websky/cib_nu%s.fits\"%nu)\n",
    "cib_flux_mJY = cib_map * 1.e9 * hp.nside2pixarea(4096)\n",
    "cib_map -= cib_map.mean()\n",
    "cib_map *= CONVERSION_FACTORS['CIB'][nu]\n",
    "\n",
    "#read in 545Ghz map\n",
    "cib_map_545 = hp.read_map(\"/global/cscratch1/sd/maccrann/cmb/websky/cib_nu0545.fits\")\n",
    "#convert to flux in mJY\n",
    "cib_545_flux_mJY = cib_map_545 * 1.e9 * hp.nside2pixarea(4096)\n",
    "mask_flux = 7.\n",
    "planck_545_mask_flux = 350.\n",
    "\n",
    "flux_mask = cib_flux_mJY<mask_flux\n",
    "plmask = cib_545_flux_mJY<planck_545_mask_flux\n",
    "print(\"flux cut masking f_sky:\", (float(len(flux_mask)-flux_mask.sum())/len(flux_mask)))\n",
    "print(\"545 GHz cut masking f_sky:\", (float(len(plmask)-plmask.sum())/len(plmask)))\n",
    "cib_map_masked = cib_map * flux_mask\n",
    "cib_map_plmasked = cib_map * plmask"
   ]
  },
  {
   "cell_type": "markdown",
   "id": "65608547-f370-4c58-8244-549bbc3b3dbd",
   "metadata": {},
   "source": [
    "Build filter. The filter is $(C_l^{ksz})^{0.5}/C_l^{\\mathrm{total}}$. \n",
    "Start by getting the CMB part using `falafel.utils.get_theory_dict`"
   ]
  },
  {
   "cell_type": "markdown",
   "id": "c2fcd013-4b3a-4393-b9da-8dfc0cbdb4b0",
   "metadata": {},
   "source": [
    "Now read in the kSZ alms, measure $C_l$, smooth it, and add to the total $C_l$"
   ]
  },
  {
   "cell_type": "code",
   "execution_count": 13,
   "id": "d7400fef-7588-4f6c-80aa-59686093b941",
   "metadata": {},
   "outputs": [
    {
     "name": "stdout",
     "output_type": "stream",
     "text": [
      "(8006001,)\n"
     ]
    },
    {
     "name": "stderr",
     "output_type": "stream",
     "text": [
      "/global/homes/m/maccrann/.conda/envs/lenspipe/lib/python3.7/site-packages/healpy/sphtfunc.py:824: UserWarning: Sigma is 0.000000 arcmin (0.000000 rad) \n",
      "  sigma * 60 * 180 / np.pi, sigma\n",
      "/global/homes/m/maccrann/.conda/envs/lenspipe/lib/python3.7/site-packages/healpy/sphtfunc.py:829: UserWarning: -> fwhm is 0.000000 arcmin\n",
      "  sigma * 60 * 180 / np.pi * (2.0 * np.sqrt(2.0 * np.log(2.0)))\n"
     ]
    },
    {
     "name": "stdout",
     "output_type": "stream",
     "text": [
      "(8006001,)\n",
      "[4.86762028e+08 1.37755479e+06 2.06236842e+06 ... 8.91220455e+03\n",
      " 8.68898027e+03 8.85808837e+03] [4.86841230e+08 6.72046765e+01 3.14939498e+02 ... 1.34938377e+01\n",
      " 1.30662115e+01 1.29402725e+01]\n",
      "(8006001,)\n",
      "(8006001,)\n",
      "[3.26907383e+08 1.69803537e+04 3.97488365e+03 ... 1.06825713e+01\n",
      " 1.05247642e+01 1.04239845e+01] [3.26960934e+08 4.51419743e+01 2.12424454e+02 ... 9.06833856e+00\n",
      " 8.78074944e+00 8.69447398e+00]\n",
      "(8006001,)\n",
      "(8006001,)\n",
      "[3.24934267e+08 4.25658004e+04 1.99124267e+04 ... 8.12944316e+01\n",
      " 8.06928454e+01 8.04030561e+01] [3.24987567e+08 4.46586541e+01 2.11393506e+02 ... 9.01308795e+00\n",
      " 8.72641816e+00 8.64223088e+00]\n"
     ]
    }
   ],
   "source": [
    "cib_maps = [cib_map, cib_map_masked, cib_map_plmasked]\n",
    "keys = [\"cib\", \"cib_masked\", \"cib_plmasked\"]\n",
    "labels = [\"cib %s\"%nu, \"cib %s, >%f mJY masked\"%(nu, mask_flux),\n",
    "        \"cib %s, >%f at 545GHz masked\"%(nu, planck_545_mask_flux)]\n",
    "\n",
    "cl_KK_dict = {}\n",
    "\n",
    "for m,k in zip(cib_maps, keys):\n",
    "    cib_alms = hp.map2alm(m, lmax=mlmax)\n",
    "    cib_cl_KK = get_cl_KK(cib_alms, lmin, lmax)\n",
    "    #first get the C_l\n",
    "    cib_cl = curvedsky.alm2cl(cib_alms)\n",
    "    #Now generate the random alms\n",
    "    sim_alm = curvedsky.rand_alm(cib_cl, seed=1234)\n",
    "    sim_cl_KK = get_cl_KK(sim_alm, lmin, lmax)\n",
    "    cl_KK_dict[k] = (cib_cl_KK, sim_cl_KK)\n",
    "    print(cib_cl_KK, sim_cl_KK)"
   ]
  },
  {
   "cell_type": "code",
   "execution_count": 21,
   "id": "4f22e784-7a5b-4edb-ae28-7ef6ae769e63",
   "metadata": {},
   "outputs": [],
   "source": [
    "from solenspipe import weighted_bin1D\n",
    "def bin_cl(cl, lmin=10, lmax=500, nbin=30):\n",
    "    bin_edges = np.linspace(0,lmax,nbin).astype(int)\n",
    "    binner = weighted_bin1D(bin_edges)\n",
    "    ix,weights = np.zeros_like(cl), np.ones_like(cl)\n",
    "    return binner.bin(ix, cl, weights)"
   ]
  },
  {
   "cell_type": "code",
   "execution_count": 56,
   "id": "b243c551-e095-4d9b-ab45-4c26889f150b",
   "metadata": {},
   "outputs": [
    {
     "data": {
      "image/png": "[encoded data removed]",
      "text/plain": [
       "<Figure size 432x288 with 1 Axes>"
      ]
     },
     "metadata": {
      "needs_background": "light"
     },
     "output_type": "display_data"
    }
   ],
   "source": [
    "%matplotlib inline\n",
    "fig,ax=plt.subplots()\n",
    "\n",
    "ell_mids, cl_KK_cib_binned = bin_cl(cl_KK_dict['cib'][0])\n",
    "\n",
    "ax.plot(ell_mids, cl_KK_cib_binned, color='C0', label='CIB')\n",
    "ax.plot(ell_mids, bin_cl(cl_KK_dict['cib'][1])[1], color='C0', linestyle='--')\n",
    "ax.plot(ell_mids, bin_cl(cl_KK_dict['cib_masked'][0])[1], \n",
    "        color='C1', label='CIB, >%d mJY masked'%mask_flux)\n",
    "ax.plot(ell_mids, bin_cl(cl_KK_dict['cib_masked'][1])[1],\n",
    "       color='C1', linestyle='--')\n",
    "ax.plot(ell_mids, bin_cl(cl_KK_dict['cib_plmasked'][0])[1], \n",
    "        color='C2', label='CIB, >%d mJY at 545GHz masked'%planck_545_mask_flux)\n",
    "ax.plot(ell_mids+2., bin_cl(cl_KK_dict['cib_plmasked'][1])[1],\n",
    "       color='C2', linestyle='--')\n",
    "ax.plot(ell_mids, bin_cl(cmb_cl_KK)[1], label=r'$N_0$'+' for CMB + 10$\\mu K$ noise',\n",
    "       color='k', linestyle=':')\n",
    "#ax.plot([],[],color='k',linestyle='--',label=r'CIB $N_0$')\n",
    "ax.set_yscale('log')\n",
    "ax.set_xlabel(r\"$L$\")\n",
    "ax.set_ylabel(r\"$C_L^{KK}$\")\n",
    "ax.set_title(\"CIB %s GHz\"%nu)\n",
    "ax.legend()\n",
    "fig.savefig('cib_N0_%s.png'%nu)"
   ]
  },
  {
   "cell_type": "markdown",
   "id": "5e420754-86f6-41ba-9c49-8b440c4a478d",
   "metadata": {},
   "source": [
    "Now apply the filter and get the K map, and measure it's $C_l$. "
   ]
  },
  {
   "cell_type": "code",
   "execution_count": null,
   "id": "d23a9b3e-4263-417f-bf5b-9bdb2f2e1e54",
   "metadata": {},
   "outputs": [],
   "source": [
    "#Filter the cib alms\n",
    "cib_alms = hp.map2alm(cib_map,lmax=mlmax)\n",
    "print(cib_alms.shape)\n",
    "cib_alms_filtered = apply_W_filter(cib_alms,lmin,lmax)\n",
    "print(cib_alms_filtered.shape)\n",
    "#hp.fitsfunc.write_alm(\"cib_alms_filtered_%s.fits\"%tag, cib_alms_filtered, overwrite=True)\n",
    "\n",
    "#K is squared, filtered map\n",
    "cib_K_map = (hp.alm2map(cib_alms_filtered, 4096))**2"
   ]
  },
  {
   "cell_type": "code",
   "execution_count": null,
   "id": "b468aafc-34ed-4027-85b3-ed91cb4964e1",
   "metadata": {},
   "outputs": [],
   "source": [
    "#Get C(l) of K map\n",
    "cib_K_alm = (hp.map2alm(cib_K_map, lmax=1000))\n",
    "cib_cl_KK = hp.alm2cl(cib_K_alm)"
   ]
  },
  {
   "cell_type": "markdown",
   "id": "0bcbeff7-552c-4cb2-a55b-770ff3544b51",
   "metadata": {},
   "source": [
    "Ok so that's the raw auto for the CIB map. Now get the $N_0$. For this we just measure the power spectrum of the input CIB map, generate a Gaussian sim, and make the same measurement on that sim. "
   ]
  },
  {
   "cell_type": "code",
   "execution_count": null,
   "id": "57b60e5d-9415-4df5-a007-1552919b33f4",
   "metadata": {},
   "outputs": [],
   "source": [
    "#first get the C_l\n",
    "cib_cl = curvedsky.alm2cl(cib_alms)"
   ]
  },
  {
   "cell_type": "code",
   "execution_count": null,
   "id": "0af79edf-aeac-4c2c-bc52-5dfd3a7b7668",
   "metadata": {},
   "outputs": [],
   "source": [
    "#Now generate the random alms\n",
    "sim_alm = curvedsky.rand_alm(cib_cl, seed=1234)"
   ]
  },
  {
   "cell_type": "markdown",
   "id": "2a1543d7-39ae-4feb-8e44-cf52cc4efd2b",
   "metadata": {},
   "source": [
    "Make sure this has the right power spectrum"
   ]
  },
  {
   "cell_type": "code",
   "execution_count": null,
   "id": "afdac557-ab88-46ca-8a1d-9de829aa4f19",
   "metadata": {},
   "outputs": [],
   "source": [
    "%matplotlib inline\n",
    "fig,ax=plt.subplots()\n",
    "#the one we measured from the cib alms\n",
    "ax.plot(cib_cl)\n",
    "#the one from the alms we just generated\n",
    "ax.plot(curvedsky.alm2cl(sim_alm))\n",
    "ax.set_yscale('log')\n",
    "ax.set_xscale('log')"
   ]
  },
  {
   "cell_type": "code",
   "execution_count": null,
   "id": "b047dbb0-00d3-46d1-9ee3-8913992d78e4",
   "metadata": {},
   "outputs": [],
   "source": [
    "sim_alm_filtered = apply_W_filter(sim_alm)\n",
    "#Convert to K map\n",
    "sim_K_map = (hp.alm2map(sim_alm_filtered, 4096))**2\n",
    "#Convert to alms and get C_l\n",
    "sim_K_alm = hp.map2alm(sim_K_map, lmax=1000)\n",
    "sim_cl_KK = hp.alm2cl(sim_K_alm)"
   ]
  },
  {
   "cell_type": "markdown",
   "id": "0e7774d7-7810-4061-ba02-e8248472b897",
   "metadata": {},
   "source": [
    "Now plot both"
   ]
  },
  {
   "cell_type": "code",
   "execution_count": null,
   "id": "1049863e-2681-4a4a-b495-bf2836def880",
   "metadata": {},
   "outputs": [],
   "source": [
    "%matplotlib inline\n",
    "fig,ax=plt.subplots()\n",
    "ax.plot(cib_cl_KK, label=\"CIB map\")\n",
    "ax.plot(sim_cl_KK, label='$N_0$')\n",
    "ax.legend()\n",
    "#ax.set_ylim([1.e-10,1.e-8])\n",
    "ax.set_yscale('log')\n",
    "fig.savefig(\"Cl_KK_%s.png\"%(tag))"
   ]
  },
  {
   "cell_type": "markdown",
   "id": "11e8912b-99e9-48ac-a5ba-e851305b0638",
   "metadata": {},
   "source": [
    "WTF. $N_0$ is way smaller..."
   ]
  },
  {
   "cell_type": "markdown",
   "id": "4dd0af6e-32ec-428c-b3cd-b62b793822ab",
   "metadata": {},
   "source": [
    "Plot some maps"
   ]
  },
  {
   "cell_type": "code",
   "execution_count": null,
   "id": "52879157-8663-48c4-85f0-9d908874ecc7",
   "metadata": {},
   "outputs": [],
   "source": [
    "res=1. #arcmin\n",
    "shape,wcs = enmap.geometry((np.pi,np.pi), res=res*putils.arcmin, shape=(500,500))\n",
    "#shape,wcs = enmap.fullsky_geometry(res=res * putils.arcmin)\n",
    "cib_map_filtered = enmap.zeros(shape,wcs)\n",
    "sim_map_filtered = enmap.zeros(shape,wcs)\n",
    "curvedsky.alm2map(cib_alms_filtered, cib_map_filtered)\n",
    "curvedsky.alm2map(sim_alm_filtered, sim_map_filtered)"
   ]
  },
  {
   "cell_type": "code",
   "execution_count": null,
   "id": "b4386307-ef47-4064-a5e6-554fe2dd36cb",
   "metadata": {},
   "outputs": [],
   "source": [
    "%matplotlib inline\n",
    "fig,ax=plt.subplots(nrows=4, figsize=(5,10))\n",
    "im=ax[0].pcolormesh(cib_map_filtered)#, vmin=-10.,vmax=10.)\n",
    "ax[0].set_title(\"Filtered CIB\")\n",
    "fig.colorbar(im, ax=ax[0])\n",
    "im=ax[1].pcolormesh(sim_map_filtered)#, vmin=-10.,vmax=10.)\n",
    "ax[1].set_title(\"Filtered Gaussian sim\")\n",
    "fig.colorbar(im, ax=ax[1])\n",
    "im=ax[2].pcolormesh(cib_map_filtered**2)#, vmin=-10.,vmax=10.)\n",
    "fig.colorbar(im, ax=ax[2])\n",
    "ax[2].set_title(\"CIB K\")\n",
    "im=ax[3].pcolormesh(sim_map_filtered**2)#, vmin=-10.,vmax=10.)\n",
    "fig.colorbar(im, ax=ax[3])\n",
    "ax[3].set_title(\"Gaussian K\")\n",
    "fig.tight_layout()"
   ]
  },
  {
   "cell_type": "code",
   "execution_count": null,
   "id": "9100fc71-e71b-4eb9-9e90-5a53312dc92c",
   "metadata": {},
   "outputs": [],
   "source": [
    "fig.savefig(\"cib_test_maps_%s.png\"%(tag))"
   ]
  },
  {
   "cell_type": "code",
   "execution_count": null,
   "id": "116c9b78-2994-4136-b82c-f47978b2c177",
   "metadata": {},
   "outputs": [],
   "source": []
  }
 ],
 "metadata": {
  "kernelspec": {
   "display_name": "LensPipe",
   "language": "python",
   "name": "lenspipe"
  },
  "language_info": {
   "codemirror_mode": {
    "name": "ipython",
    "version": 3
   },
   "file_extension": ".py",
   "mimetype": "text/x-python",
   "name": "python",
   "nbconvert_exporter": "python",
   "pygments_lexer": "ipython3",
   "version": "3.7.9"
  }
 },
 "nbformat": 4,
 "nbformat_minor": 5
}
