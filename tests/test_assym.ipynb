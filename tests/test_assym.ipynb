{
 "cells": [
  {
   "cell_type": "code",
   "execution_count": 1,
   "id": "53f2de50-2b89-4cc6-9bcf-e7eb4a88d394",
   "metadata": {},
   "outputs": [
    {
     "name": "stderr",
     "output_type": "stream",
     "text": [
      "/global/common/software/act/maccrann/lenspipe/lib/python3.8/site-packages/cmbsky-0.0.1-py3.8.egg/cmbsky/utils.py:12: YAMLLoadWarning: calling yaml.load() without Loader=... is deprecated, as the default Loader is unsafe. Please read https://msg.pyyaml.org/load for full details.\n",
      "  DEFAULTS=yaml.load(f)\n"
     ]
    }
   ],
   "source": [
    "#Having generated alms, do the reconstuction\n",
    "#and cross-correlate with true kappa\n",
    "import pickle\n",
    "import healpy as hp\n",
    "import matplotlib\n",
    "import matplotlib.pyplot as plt\n",
    "import os\n",
    "os.environ[\"DISABLE_MPI\"]=\"true\"\n",
    "import numpy as np\n",
    "from falafel import utils, qe\n",
    "import pytempura\n",
    "import solenspipe\n",
    "from pixell import lensing, curvedsky, enmap\n",
    "from pixell import utils as putils\n",
    "from os.path import join as opj\n",
    "import argparse\n",
    "import yaml\n",
    "from collections import OrderedDict\n",
    "from cmbsky import safe_mkdir, get_disable_mpi, get_cmb_alm_unlensed, get_cmb_seeds, ClBinner\n",
    "from orphics import maps\n",
    "from websky_model import WebSky\n",
    "from copy import deepcopy\n",
    "import sys\n",
    "from scipy.signal import savgol_filter\n",
    "sys.path.append(\"../\")\n",
    "from reconstruction import setup_recon, setup_asym_recon"
   ]
  },
  {
   "cell_type": "code",
   "execution_count": 2,
   "id": "d4b80e08-a25c-4eb7-b737-b9813152cb55",
   "metadata": {},
   "outputs": [],
   "source": [
    "def get_cl_fg_smooth(alms, alm2=None):\n",
    "    cl = curvedsky.alm2cl(alms, alm2=alm2)\n",
    "    l = np.arange(len(cl))\n",
    "    d = l*(l+1)*cl\n",
    "    #smooth with savgol\n",
    "    d_smooth = savgol_filter(d, 5, 2)\n",
    "    #if there's still negative values, set them\n",
    "    #to zero\n",
    "    d_smooth[d_smooth<0.] = 0.\n",
    "    return np.where(\n",
    "        l>0,d_smooth/l/(l+1),0.)"
   ]
  },
  {
   "cell_type": "code",
   "execution_count": 3,
   "id": "2905d79c-3064-4f8f-abf6-859e97ee73d8",
   "metadata": {},
   "outputs": [],
   "source": [
    "px=qe.pixelization(nside=4096)\n",
    "mlmax=2000\n",
    "lmin=1000\n",
    "lmax=1500\n",
    "binner=ClBinner(lmin=10, lmax=200, nbin=15)\n",
    "\n",
    "noise_sigma_X = 2.\n",
    "noise_sigma_Y = 10.\n",
    "#cross-correlation coefficient \n",
    "r = 0.5\n",
    "\n",
    "beam_fwhm=1.\n",
    "ells = np.arange(mlmax+1)\n",
    "beam = maps.gauss_beam(ells, beam_fwhm)\n",
    "Nl_tt_X = (noise_sigma_X*np.pi/180./60.)**2./beam**2\n",
    "Nl_tt_Y = (noise_sigma_Y*np.pi/180./60.)**2./beam**2\n",
    "nells_X = {\"TT\":Nl_tt_X, \"EE\":2*Nl_tt_X, \"BB\":2*Nl_tt_X}\n",
    "nells_Y = {\"TT\":Nl_tt_Y, \"EE\":2*Nl_tt_Y, \"BB\":2*Nl_tt_Y}\n",
    "\n",
    "_,tcls_X = utils.get_theory_dicts(grad=True, nells=nells_X, lmax=mlmax)\n",
    "_,tcls_Y = utils.get_theory_dicts(grad=True, nells=nells_Y, lmax=mlmax)\n",
    "_,tcls_nonoise = utils.get_theory_dicts(grad=True, lmax=mlmax)"
   ]
  },
  {
   "cell_type": "code",
   "execution_count": 4,
   "id": "a572aa2b-0eb4-4e11-b0fa-c73fa90109ed",
   "metadata": {},
   "outputs": [
    {
     "name": "stderr",
     "output_type": "stream",
     "text": [
      "/tmp/ipykernel_6320/167959102.py:11: RuntimeWarning: invalid value encountered in true_divide\n",
      "  l>0,d_smooth/l/(l+1),0.)\n"
     ]
    }
   ],
   "source": [
    "#Read in alms\n",
    "ksz_alm = utils.change_alm_lmax(hp.fitsfunc.read_alm(\"alms_4e3_2048_50_50_ksz.fits\"),\n",
    "                                mlmax)\n",
    "cl_rksz = get_cl_fg_smooth(ksz_alm)[:mlmax+1]\n",
    "tcls_X['TT'] += cl_rksz\n",
    "tcls_Y['TT'] += cl_rksz\n",
    "#tcls_nonoise['TT'] += cl_rksz\n",
    "\n",
    "\n",
    "cltot_X = tcls_X['TT'][:mlmax+1]-tcls_nonoise['TT']\n",
    "cltot_Y = tcls_Y['TT'][:mlmax+1]-tcls_nonoise['TT']\n",
    "cltot_XY = (tcls_nonoise['TT'] + r*np.sqrt(Nl_tt_X*Nl_tt_Y))[:mlmax+1]-tcls_nonoise['TT']\n",
    "#We need N_l for generating uncorrelated component of Y,\n",
    "#call this map Z\n",
    "#We have noise_Y = a*noise_X + noise_Z\n",
    "#then N_l^Y = a^2 N_l^X + N_l^Z\n",
    "#and <XY> = a * N_l^X = r_l * sqrt(N_l^X N_l^Y) (from defintion of r_l)\n",
    "#then we have a = r_l*sqrt(N_l^X N_l^Y) / N_l^X\n",
    "#and N_l^Z = N_l^Y - a^2 N_l^X \n",
    "a = r * np.sqrt(Nl_tt_X*Nl_tt_Y)/Nl_tt_X\n",
    "Nl_tt_Z = Nl_tt_Y - a**2 * Nl_tt_X"
   ]
  },
  {
   "cell_type": "code",
   "execution_count": 5,
   "id": "27ec76d6-1551-4be1-acbd-1d7dac45c83d",
   "metadata": {},
   "outputs": [
    {
     "name": "stderr",
     "output_type": "stream",
     "text": [
      "/global/u1/m/maccrann/cmb/lensing/code/tempura/pytempura/norm.py:102: RuntimeWarning: divide by zero encountered in true_divide\n",
      "  cl_tt = tcl['TT'][:k_ellmax+1]/profile**2\n",
      "../reconstruction.py:186: RuntimeWarning: invalid value encountered in true_divide\n",
      "  norm_Ksf = norm_K / 2 / profile\n",
      "../reconstruction.py:195: RuntimeWarning: divide by zero encountered in true_divide\n",
      "  N0_K_nonorm = 1./norm_K\n"
     ]
    },
    {
     "name": "stdout",
     "output_type": "stream",
     "text": [
      "getting point-source norm\n",
      "False\n",
      "False\n",
      "getting lensing norm\n",
      "getting source-lens response\n",
      "[3.38463800e-07 2.10327417e+00 1.67877284e+00 ... 4.03226555e-06\n",
      " 4.03283078e-06 4.06620669e-06]\n",
      "[0.         1.45026681 1.29567453 ... 0.00191639 0.00191653 0.00192521]\n",
      " Response (TT)\n",
      "getting source-point-source response\n"
     ]
    },
    {
     "name": "stderr",
     "output_type": "stream",
     "text": [
      "/global/u1/m/maccrann/cmb/lensing/code/tempura/pytempura/norm.py:154: RuntimeWarning: divide by zero encountered in true_divide\n",
      "  cl_tt_total = tcl['TT'][:k_ellmax+1] / profile\n",
      "/global/u1/m/maccrann/cmb/lensing/code/tempura/pytempura/norm.py:155: RuntimeWarning: divide by zero encountered in true_divide\n",
      "  prefactor = 1./profile\n",
      "/global/u1/m/maccrann/cmb/lensing/code/tempura/pytempura/norm.py:159: RuntimeWarning: invalid value encountered in multiply\n",
      "  return prefactor * norm_lens.stt(k_ellmax, lmin, lmax, ucl['TT'],\n",
      "../reconstruction.py:223: RuntimeWarning: divide by zero encountered in true_divide\n",
      "  R_K_ps = (1./pytempura.get_norms(\n"
     ]
    },
    {
     "name": "stdout",
     "output_type": "stream",
     "text": [
      "[3.38463800e-07 2.10327417e+00 1.67877284e+00 ... 4.03226555e-06\n",
      " 4.03283078e-06 4.06620669e-06] [8.46159499e-06 2.10328229e+00 1.67878096e+00 ... 1.26656033e-05\n",
      " 1.26666951e-05 1.27005978e-05] [8.46159499e-07 8.46159512e-07 8.46159537e-07 ... 8.99306011e-07\n",
      " 8.99360863e-07 8.99415746e-07]\n"
     ]
    },
    {
     "name": "stderr",
     "output_type": "stream",
     "text": [
      "/global/common/software/act/maccrann/lenspipe/lib/python3.8/site-packages/cmbsky-0.0.1-py3.8.egg/cmbsky/reconstruction.py:69: RuntimeWarning: divide by zero encountered in true_divide\n",
      "  rlmax, TT, OCTG/(profile[:glmax+1]**2),\n",
      "/global/common/software/act/maccrann/lenspipe/lib/python3.8/site-packages/cmbsky-0.0.1-py3.8.egg/cmbsky/reconstruction.py:70: RuntimeWarning: divide by zero encountered in true_divide\n",
      "  OCTL/(profile[:llmax+1]**2),\n"
     ]
    },
    {
     "name": "stdout",
     "output_type": "stream",
     "text": [
      "(2001,) (2001,)\n",
      "getting qe N0s\n"
     ]
    },
    {
     "name": "stderr",
     "output_type": "stream",
     "text": [
      "../reconstruction.py:96: RuntimeWarning: invalid value encountered in true_divide\n",
      "  N0_XYXY_K_nonorm = noise_spec.qtt_asym(\n"
     ]
    },
    {
     "name": "stdout",
     "output_type": "stream",
     "text": [
      "getting qe fg_trispectrum functions\n",
      "getting XY and YX qfuncs for qe\n",
      "[3.38463800e-07 2.10327417e+00 1.67877284e+00 ... 4.03226555e-06\n",
      " 4.03283078e-06 4.06620669e-06] [3.38463800e-07 2.10327417e+00 1.67877284e+00 ... 4.03226555e-06\n",
      " 4.03283078e-06 4.06620669e-06] [3.38463800e-07 2.10327417e+00 1.67877284e+00 ... 4.03226555e-06\n",
      " 4.03283078e-06 4.06620669e-06]\n",
      "(2001,) (2001,)\n",
      "getting qe N0s\n",
      "getting qe fg_trispectrum functions\n",
      "getting XY and YX qfuncs for qe\n"
     ]
    }
   ],
   "source": [
    "px = qe.pixelization(nside=4096)\n",
    "normal_setup = setup_recon(\n",
    "    px, lmin, lmax,\n",
    "    mlmax,  cl_rksz, {\"TT\":cltot_X}\n",
    ")\n",
    "asym_setup = setup_asym_recon(\n",
    "    px, lmin, lmax,\n",
    "    mlmax,  cl_rksz, cltot_X, cltot_Y,\n",
    "    cltot_XY,\n",
    "    do_lh=False, do_psh=False)\n",
    "asym_setup_XX = setup_asym_recon(\n",
    "    px, lmin, lmax,\n",
    "    mlmax,  cl_rksz, cltot_X, cltot_X,\n",
    "    cltot_X,\n",
    "    do_lh=False, do_psh=False)"
   ]
  },
  {
   "cell_type": "code",
   "execution_count": 6,
   "id": "c4b75449-712f-4ed0-8fb5-268dd724032f",
   "metadata": {},
   "outputs": [
    {
     "name": "stdout",
     "output_type": "stream",
     "text": [
      "[0.00000000e+00 8.28901299e-05 6.62252816e-05 ... 1.00202014e-09\n",
      " 1.00098924e-09 1.00871745e-09]\n",
      "2001\n"
     ]
    }
   ],
   "source": [
    "print(asym_setup[\"norm_K_XY\"])\n",
    "print(len(asym_setup[\"N0_XYXY_K\"]))"
   ]
  },
  {
   "cell_type": "code",
   "execution_count": 7,
   "id": "0f014c33-a388-4d73-b159-bb6643a90d67",
   "metadata": {},
   "outputs": [
    {
     "name": "stdout",
     "output_type": "stream",
     "text": [
      "rank 0 doing ksz only\n"
     ]
    },
    {
     "name": "stderr",
     "output_type": "stream",
     "text": [
      "/global/common/software/act/maccrann/lenspipe/lib/python3.8/site-packages/healpy/sphtfunc.py:822: UserWarning: Sigma is 0.000000 arcmin (0.000000 rad) \n",
      "  warnings.warn(\n",
      "/global/common/software/act/maccrann/lenspipe/lib/python3.8/site-packages/healpy/sphtfunc.py:827: UserWarning: -> fwhm is 0.000000 arcmin\n",
      "  warnings.warn(\n",
      "/global/u1/m/maccrann/cmb/lensing/code/falafel/falafel/qe.py:474: RuntimeWarning: divide by zero encountered in true_divide\n",
      "  salm=cs.almxfl(salm,1./profile)\n"
     ]
    }
   ],
   "source": [
    "from cmbsky.utils import get_cmb_alm_unlensed\n",
    "nsim=1\n",
    "\n",
    "cl_dict = {\"KK_XY\" : [],\n",
    "           \"KK_XX_asym\" : [], #using sym_setup_XX\n",
    "           \"KK_XX\" : [], #using recon_setup\n",
    "           \"KK_XYxi\" : [],\n",
    "           \"KK_XXxi\" : [],\n",
    "           \"KK_XY_kszonly\" : [],\n",
    "           \"KK_XX_kszonly\" : [],\n",
    "           \"KK_XY_noksz\" : [],\n",
    "          }\n",
    "do_qe=True\n",
    "rank,size=0,1\n",
    "\n",
    "#do ksz only\n",
    "Xf_ksz, Yf_ksz = asym_setup[\"filter_X\"](ksz_alm.copy()), asym_setup[\"filter_Y\"](ksz_alm.copy())\n",
    "if rank==0:\n",
    "    print(\"rank 0 doing ksz only\")\n",
    "    K_XY_kszonly = asym_setup[\"qfunc_K_XY\"](Xf_ksz, Yf_ksz)\n",
    "    K_XX_kszonly = normal_setup[\"qfunc_K\"](Xf_ksz,Xf_ksz)\n",
    "    cl_dict[\"KK_XY_kszonly\"] = binner(curvedsky.alm2cl(\n",
    "        K_XY_kszonly\n",
    "    ))\n",
    "    cl_dict[\"KK_XX_kszonly\"] = binner(curvedsky.alm2cl(\n",
    "        K_XX_kszonly\n",
    "    ))"
   ]
  },
  {
   "cell_type": "code",
   "execution_count": 8,
   "id": "bc371d14-ad93-4ab0-86b2-dbbf1a7f73be",
   "metadata": {},
   "outputs": [
    {
     "name": "stdout",
     "output_type": "stream",
     "text": [
      "rank 0 doing sim 0\n",
      "reading cmb  alm\n",
      "generating noise\n",
      "running K estimators\n",
      "qe case:\n",
      "running no ksz case\n"
     ]
    }
   ],
   "source": [
    "for isim in range(nsim):\n",
    "    if size>1:\n",
    "        if isim%size != rank-1:\n",
    "            continue\n",
    "    print(\"rank %d doing sim %d\"%(rank,isim))\n",
    "    print(\"reading cmb  alm\")\n",
    "    cmb_alm = get_cmb_alm_unlensed(isim,0)[0]*0.\n",
    "    cmb_alm = utils.change_alm_lmax(cmb_alm, mlmax)\n",
    "    ells = np.arange(mlmax+1)\n",
    "    cl_dict[\"ells\"] = ells\n",
    "\n",
    "    print(\"generating noise\")\n",
    "    noise_alm_X = curvedsky.rand_alm(Nl_tt_X, seed=isim*(10*nsim))\n",
    "    noise_alm_Z = curvedsky.rand_alm(Nl_tt_Z, seed=isim*(10*nsim)+1)\n",
    "    noise_alm_Y = curvedsky.almxfl(noise_alm_X,a) + noise_alm_Z\n",
    "\n",
    "    X_ksz = ksz_alm.copy()\n",
    "    X = cmb_alm+noise_alm_X+ksz_alm\n",
    "    Y = cmb_alm+noise_alm_Y+ksz_alm\n",
    "    Xf, Yf = asym_setup[\"filter_X\"](X), asym_setup[\"filter_Y\"](Y)\n",
    "    Xf_ksz, Yf_ksz = asym_setup[\"filter_X\"](ksz_alm.copy()), asym_setup[\"filter_Y\"](ksz_alm.copy())\n",
    "\n",
    "    X_noksz = cmb_alm+noise_alm_X\n",
    "    Y_noksz = cmb_alm+noise_alm_Y\n",
    "    Xf_noksz, Yf_noksz = asym_setup[\"filter_X\"](X_noksz), asym_setup[\"filter_Y\"](Y_noksz)\n",
    "\n",
    "    #X_fg_gaussian = curvedsky.rand_alm(cl_fg_X, seed=isim*(10*nsim)+3)\n",
    "    #Y_fg_gaussian = 0.1*X_fg_gaussian\n",
    "\n",
    "    print(\"running K estimators\")\n",
    "    if do_qe:\n",
    "        print(\"qe case:\")\n",
    "        K_XY = asym_setup[\"qfunc_K_XY\"](Xf, Yf)\n",
    "        K_XX_asym = asym_setup_XX[\"qfunc_K_XY\"](Xf,Xf)\n",
    "        K_XX = normal_setup[\"qfunc_K\"](Xf,Xf)\n",
    "\n",
    "        print(\"running no ksz case\")\n",
    "        K_XY_noksz = asym_setup[\"qfunc_K_XY\"](Xf_noksz, Yf_noksz)\n",
    "\n",
    "        #auto\n",
    "        cl_dict[\"KK_XY\"].append(binner(\n",
    "            curvedsky.alm2cl(K_XY)\n",
    "        ))\n",
    "        cl_dict[\"KK_XX_asym\"].append(binner(\n",
    "            curvedsky.alm2cl(K_XX_asym)\n",
    "        ))              \n",
    "        cl_dict[\"KK_XX\"].append(binner(\n",
    "            curvedsky.alm2cl(K_XX)\n",
    "        ))\n",
    "        cl_dict[\"KK_XY_noksz\"].append(binner(\n",
    "            curvedsky.alm2cl(K_XY_noksz)\n",
    "        ))\n",
    "        cl_dict[\"KK_XYxi\"].append(binner(\n",
    "            curvedsky.alm2cl(K_XY, K_XY_kszonly)\n",
    "        ))\n",
    "        cl_dict[\"KK_XXxi\"].append(binner(\n",
    "            curvedsky.alm2cl(K_XX, K_XX_kszonly)\n",
    "        ))\n",
    "        "
   ]
  },
  {
   "cell_type": "code",
   "execution_count": 9,
   "id": "4030da71-79de-41e5-85b3-9a4c8a808e15",
   "metadata": {},
   "outputs": [
    {
     "name": "stderr",
     "output_type": "stream",
     "text": [
      "../reconstruction.py:255: RuntimeWarning: divide by zero encountered in true_divide\n",
      "  Ctot = tcls_X['TT']**2 / cl_fg\n",
      "../reconstruction.py:261: RuntimeWarning: invalid value encountered in true_divide\n",
      "  return N0_K**2 / norm_fg\n"
     ]
    },
    {
     "name": "stdout",
     "output_type": "stream",
     "text": [
      "(2001,)\n"
     ]
    },
    {
     "name": "stderr",
     "output_type": "stream",
     "text": [
      "../reconstruction.py:116: RuntimeWarning: invalid value encountered in true_divide\n",
      "  N0_tri_XYXY_prof_nonorm /= profile**2\n"
     ]
    }
   ],
   "source": [
    "for key in cl_dict:\n",
    "    cl_dict[key] = np.array(cl_dict[key])\n",
    "    \n",
    "ksz_only_tri_XX = normal_setup[\"get_fg_trispectrum_K_N0\"](cl_rksz)\n",
    "ksz_only_tri_XY = asym_setup[\"get_fg_trispectrum_N0_XYXY\"](cl_rksz, cl_rksz, cl_rksz)"
   ]
  },
  {
   "cell_type": "code",
   "execution_count": 17,
   "id": "c94f70d8-fe43-4d3a-b110-9fd86e92c7b1",
   "metadata": {},
   "outputs": [
    {
     "name": "stdout",
     "output_type": "stream",
     "text": [
      "[[5.46602260e-05 1.36291214e-05 4.50424459e-06 1.81814979e-06\n",
      "  9.49991097e-07 4.41460045e-07 2.57324583e-07 1.50171783e-07\n",
      "  9.04088663e-08 6.13679101e-08 4.34277607e-08 3.12222590e-08\n",
      "  2.36050498e-08 1.79422260e-08 1.44973832e-08]]\n"
     ]
    }
   ],
   "source": [
    "print(cl_dict[\"KK_XY\"])"
   ]
  },
  {
   "cell_type": "code",
   "execution_count": null,
   "id": "b4820aa6-7a40-4442-b99e-7121f5407f60",
   "metadata": {},
   "outputs": [],
   "source": [
    "%matplotlib inline\n",
    "\n",
    "#plot signal\n",
    "\n",
    "fig,ax=plt.subplots()\n",
    "ax.plot("
   ]
  },
  {
   "cell_type": "code",
   "execution_count": 21,
   "id": "9f18324d-66cd-4fdc-a1f6-a722717a7723",
   "metadata": {},
   "outputs": [
    {
     "data": {
      "text/plain": [
       "[<matplotlib.lines.Line2D at 0x15550b9f73d0>]"
      ]
     },
     "execution_count": 21,
     "metadata": {},
     "output_type": "execute_result"
    },
    {
     "data": {
      "image/png": "[encoded data removed]",
      "text/plain": [
       "<Figure size 432x288 with 1 Axes>"
      ]
     },
     "metadata": {
      "needs_background": "light"
     },
     "output_type": "display_data"
    }
   ],
   "source": [
    "%matplotlib inline\n",
    "\n",
    "#plot signal\n",
    "\n",
    "fig,ax=plt.subplots()\n",
    "ax.plot(binner.bin_mids, cl_dict[\"KK_XY\"].mean(axis=0)-binner(asym_setup[\"N0_XYXY_K\"]))\n",
    "#ax.plot(binner.bin_mids, binner(asym_setup[\"N0_XYXY_K\"]))\n",
    "ax.plot(binner.bin_mids, cl_dict[\"KK_XX_kszonly\"]-binner(ksz_only_tri))\n",
    "ax.plot(binner.bin_mids, cl_dict[\"KK_XYxi\"].mean(axis=0)-binner(ksz_only_tri))\n",
    "#ax.plot(binner.bin_mids, (cl_dict[\"KK_XY\"].mean(axis=0)-binner(asym_setup[\"N0_XYXY_K\"]))/cl_dict[\"KK_XX_kszonly\"])\n",
    "#ax.plot(binner.bin_mids, binner(cl_dict[\"K_XX_kszonly\"]))"
   ]
  },
  {
   "cell_type": "code",
   "execution_count": 17,
   "id": "356c5952-62b7-4d89-b119-8561d992a0ca",
   "metadata": {},
   "outputs": [
    {
     "ename": "KeyError",
     "evalue": "'K_XX_kszonly'",
     "output_type": "error",
     "traceback": [
      "\u001b[0;31m---------------------------------------------------------------------------\u001b[0m",
      "\u001b[0;31mKeyError\u001b[0m                                  Traceback (most recent call last)",
      "\u001b[0;32m/tmp/ipykernel_33642/2797921441.py\u001b[0m in \u001b[0;36m<module>\u001b[0;34m\u001b[0m\n\u001b[1;32m      5\u001b[0m \u001b[0mfig\u001b[0m\u001b[0;34m,\u001b[0m\u001b[0max\u001b[0m\u001b[0;34m=\u001b[0m\u001b[0mplt\u001b[0m\u001b[0;34m.\u001b[0m\u001b[0msubplots\u001b[0m\u001b[0;34m(\u001b[0m\u001b[0;34m)\u001b[0m\u001b[0;34m\u001b[0m\u001b[0;34m\u001b[0m\u001b[0m\n\u001b[1;32m      6\u001b[0m \u001b[0;34m\u001b[0m\u001b[0m\n\u001b[0;32m----> 7\u001b[0;31m \u001b[0mcl_KK\u001b[0m \u001b[0;34m=\u001b[0m \u001b[0mbinner\u001b[0m\u001b[0;34m(\u001b[0m\u001b[0mcl_dict\u001b[0m\u001b[0;34m[\u001b[0m\u001b[0;34m\"K_XX_kszonly\"\u001b[0m\u001b[0;34m]\u001b[0m\u001b[0;34m)\u001b[0m\u001b[0;34m\u001b[0m\u001b[0;34m\u001b[0m\u001b[0m\n\u001b[0m\u001b[1;32m      8\u001b[0m \u001b[0;34m\u001b[0m\u001b[0m\n\u001b[1;32m      9\u001b[0m \u001b[0max\u001b[0m\u001b[0;34m.\u001b[0m\u001b[0mplot\u001b[0m\u001b[0;34m(\u001b[0m\u001b[0mbinner\u001b[0m\u001b[0;34m.\u001b[0m\u001b[0mbin_mids\u001b[0m\u001b[0;34m,\u001b[0m \u001b[0;34m(\u001b[0m\u001b[0mcl_dict\u001b[0m\u001b[0;34m[\u001b[0m\u001b[0;34m\"KK_XY\"\u001b[0m\u001b[0;34m]\u001b[0m\u001b[0;34m.\u001b[0m\u001b[0mmean\u001b[0m\u001b[0;34m(\u001b[0m\u001b[0;34m)\u001b[0m\u001b[0;34m-\u001b[0m\u001b[0mbinner\u001b[0m\u001b[0;34m(\u001b[0m\u001b[0masym_setup\u001b[0m\u001b[0;34m[\u001b[0m\u001b[0;34m\"N0_XYXY_K\"\u001b[0m\u001b[0;34m]\u001b[0m\u001b[0;34m)\u001b[0m\u001b[0;34m)\u001b[0m\u001b[0;34m/\u001b[0m\u001b[0mcl_KK\u001b[0m\u001b[0;34m-\u001b[0m\u001b[0;36m1\u001b[0m\u001b[0;34m)\u001b[0m\u001b[0;34m\u001b[0m\u001b[0;34m\u001b[0m\u001b[0m\n",
      "\u001b[0;31mKeyError\u001b[0m: 'K_XX_kszonly'"
     ]
    },
    {
     "data": {
      "image/png": "[encoded data removed]",
      "text/plain": [
       "<Figure size 432x288 with 1 Axes>"
      ]
     },
     "metadata": {
      "needs_background": "light"
     },
     "output_type": "display_data"
    }
   ],
   "source": [
    "%matplotlib inline\n",
    "\n",
    "#plot signal\n",
    "\n",
    "fig,ax=plt.subplots()\n",
    "\n",
    "cl_KK = binner(cl_dict[\"K_XX_kszonly\"])\n",
    "\n",
    "ax.plot(binner.bin_mids, (cl_dict[\"KK_XY\"].mean()-binner(asym_setup[\"N0_XYXY_K\"]))/cl_KK-1)\n",
    "ax.set_yscale('symlog')\n",
    "\n",
    "fig.savefig(\"signal_XY_test_nsim%d.png\"%nsim)"
   ]
  },
  {
   "cell_type": "code",
   "execution_count": 9,
   "id": "260971bd-4f59-4040-8c93-3a255c0f5412",
   "metadata": {},
   "outputs": [
    {
     "name": "stdout",
     "output_type": "stream",
     "text": [
      "(array([           nan, 1.52546059e+02, 1.23407061e+02, ...,\n",
      "       6.52915533e+07, 6.53253265e+07, 6.58939872e+07]),)\n"
     ]
    },
    {
     "data": {
      "text/plain": [
       "[<matplotlib.lines.Line2D at 0x15550bd65430>]"
      ]
     },
     "execution_count": 9,
     "metadata": {},
     "output_type": "execute_result"
    },
    {
     "data": {
      "image/png": "[encoded data removed]",
      "text/plain": [
       "<Figure size 432x288 with 1 Axes>"
      ]
     },
     "metadata": {
      "needs_background": "light"
     },
     "output_type": "display_data"
    }
   ],
   "source": [
    "%matplotlib inline\n",
    "\n",
    "fig,ax=plt.subplots()\n",
    "\n",
    "print(asym_setup[\"N0_XYXY_K\"])\n",
    "\n",
    "N0_XY = binner(asym_setup[\"N0_XYXY_K\"])\n",
    "N0_XX = binner(normal_setup[\"N0_K\"])\n",
    "\n",
    "ax.plot(binner.bin_mids, binner(asym_setup[\"N0_XYXY_K\"][0]))\n",
    "ax.plot(binner.bin_mids, cl_dict[\"KK_XY_noksz\"][0])\n",
    "#ax.set_yscale('log')"
   ]
  },
  {
   "cell_type": "code",
   "execution_count": 13,
   "id": "25a88634-8043-47e8-a829-bc2d077e88ab",
   "metadata": {},
   "outputs": [
    {
     "data": {
      "text/plain": [
       "[<matplotlib.lines.Line2D at 0x155505cb4880>]"
      ]
     },
     "execution_count": 13,
     "metadata": {},
     "output_type": "execute_result"
    },
    {
     "data": {
      "image/png": "[encoded data removed]",
      "text/plain": [
       "<Figure size 432x288 with 1 Axes>"
      ]
     },
     "metadata": {
      "needs_background": "light"
     },
     "output_type": "display_data"
    }
   ],
   "source": [
    "%matplotlib inline\n",
    "\n",
    "fig,ax=plt.subplots()\n",
    "\n",
    "#ax.plot(binner.bin_mids, (cl_dict[\"KK_XY_noksz\"][0]))\n",
    "ax.plot(binner.bin_mids, N0_XY)\n",
    "ax.plot(binner.bin_mids, binner(asym_setup[\"norm_K_XY\"]))\n",
    "#ax.set_yscale('log')"
   ]
  },
  {
   "cell_type": "code",
   "execution_count": null,
   "id": "c3d7dd00-4816-479c-81a7-0077ae44982e",
   "metadata": {},
   "outputs": [],
   "source": []
  },
  {
   "cell_type": "code",
   "execution_count": null,
   "id": "4d993a35-fea3-4ecf-a904-cba43fd308cf",
   "metadata": {},
   "outputs": [],
   "source": []
  },
  {
   "cell_type": "code",
   "execution_count": null,
   "id": "202f3a2d-10b6-43df-b3ab-9da64192efba",
   "metadata": {},
   "outputs": [],
   "source": []
  }
 ],
 "metadata": {
  "kernelspec": {
   "display_name": "lenspipe",
   "language": "python",
   "name": "lenspipe"
  },
  "language_info": {
   "codemirror_mode": {
    "name": "ipython",
    "version": 3
   },
   "file_extension": ".py",
   "mimetype": "text/x-python",
   "name": "python",
   "nbconvert_exporter": "python",
   "pygments_lexer": "ipython3",
   "version": "3.8.8"
  }
 },
 "nbformat": 4,
 "nbformat_minor": 5
}
