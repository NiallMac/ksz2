{
 "cells": [
  {
   "cell_type": "markdown",
   "id": "aa2608ab-a4ff-4786-b4df-1bb833a9e26e",
   "metadata": {},
   "source": [
    "Look at relations between CIB at different frequencies"
   ]
  },
  {
   "cell_type": "code",
   "execution_count": 1,
   "id": "1eb60cb2-c5de-426c-be0c-39bb0f428d5f",
   "metadata": {},
   "outputs": [],
   "source": [
    "#Plots\n",
    "import pickle\n",
    "import healpy as hp\n",
    "import matplotlib\n",
    "import matplotlib.pyplot as plt\n",
    "import os\n",
    "#os.environ['DISABLE_MPI']=\"true\"\n",
    "from os.path import join as opj\n",
    "import numpy as np\n",
    "#from solenspipe import weighted_bin1D\n",
    "#from prepare_websky_map import safe_mkdir\n",
    "import healpy as hp"
   ]
  },
  {
   "cell_type": "code",
   "execution_count": 2,
   "id": "a245c18f-3f17-4180-b090-16eed8c4842b",
   "metadata": {},
   "outputs": [],
   "source": [
    "freqs = [\"0095\", \"0145\", \"0545\"]\n",
    "smoothing_scales = [1., 5., 20.] #arcmin"
   ]
  },
  {
   "cell_type": "code",
   "execution_count": 3,
   "id": "f06284ee-9744-4c50-b663-db38cb1e8c0c",
   "metadata": {},
   "outputs": [],
   "source": [
    "websky_dir = \"/global/cscratch1/sd/maccrann/cmb/websky/\"\n",
    "CONVERSION_FACTORS = {\"CIB\" : \n",
    "                      {\"0093\" : 4.6831e3, \"0100\" : 4.1877e3, \"0145\" : 2.6320e3, \"0545\" : 1.7508e4},\n",
    "                      \"Y\" : \n",
    "                      {\"0093\" : -4.2840e6, \"0100\": -4.1103e6, \"0145\" : -2.8355e6},\n",
    "}"
   ]
  },
  {
   "cell_type": "code",
   "execution_count": 4,
   "id": "ef7da4d2-bda7-44e7-816d-81888fd12744",
   "metadata": {},
   "outputs": [
    {
     "name": "stderr",
     "output_type": "stream",
     "text": [
      "/global/homes/m/maccrann/.conda/envs/lenspipe/lib/python3.7/site-packages/healpy/fitsfunc.py:369: UserWarning: If you are not specifying the input dtype and using the default np.float64 dtype of read_map(), please consider that it will change in a future version to None as to keep the same dtype of the input file: please explicitly set the dtype if it is important to you.\n",
      "  \"If you are not specifying the input dtype and using the default \"\n",
      "/global/homes/m/maccrann/.conda/envs/lenspipe/lib/python3.7/site-packages/healpy/fitsfunc.py:391: UserWarning: NSIDE = 4096\n",
      "  warnings.warn(\"NSIDE = {0:d}\".format(nside))\n",
      "/global/homes/m/maccrann/.conda/envs/lenspipe/lib/python3.7/site-packages/healpy/fitsfunc.py:400: UserWarning: ORDERING = RING in fits file\n",
      "  warnings.warn(\"ORDERING = {0:s} in fits file\".format(ordering))\n",
      "/global/homes/m/maccrann/.conda/envs/lenspipe/lib/python3.7/site-packages/healpy/fitsfunc.py:428: UserWarning: INDXSCHM = IMPLICIT\n",
      "  warnings.warn(\"INDXSCHM = {0:s}\".format(schm))\n"
     ]
    }
   ],
   "source": [
    "cib_145 = hp.read_map(opj(websky_dir, \"cib_nu0145.fits\"))\n",
    "t_145 = cib_145*CONVERSION_FACTORS[\"CIB\"][\"0145\"]\n",
    "cib_545 = hp.read_map(opj(websky_dir, \"cib_nu0545.fits\"))\n",
    "t_545 = cib_545*CONVERSION_FACTORS[\"CIB\"][\"0545\"]"
   ]
  },
  {
   "cell_type": "code",
   "execution_count": 14,
   "id": "8946551f-48fe-4a5e-b6bb-8d7ee6c1f7de",
   "metadata": {},
   "outputs": [],
   "source": [
    "def get_mask(cib_map, flux_threshold):\n",
    "    #cib_map is flux density in MJy\n",
    "    return cib_map * 1.e9 * hp.nside2pixarea(4096) < flux_threshold"
   ]
  },
  {
   "cell_type": "code",
   "execution_count": 10,
   "id": "819305b9-b491-4d61-91b2-cf43d0281ca5",
   "metadata": {},
   "outputs": [],
   "source": [
    "fracs = np.logspace(-5,-2,5)\n",
    "flux_thresholds_145 = []\n",
    "flux_thresholds_545 = []\n",
    "frac_high_masked = []\n",
    "for frac in fracs:\n",
    "    t_145 = np.percentile(cib_145, (1-frac)*100)\n",
    "    t_545 = np.percentile(cib_545, (1-frac)*100)\n",
    "    flux_thresholds_145.append(t_145 * 1.e9 * hp.nside2pixarea(4096))\n",
    "    flux_thresholds_545.append(t_545 * 1.e9 * hp.nside2pixarea(4096))\n",
    "    mask_145 = cib_145 < t_145\n",
    "    mask_545 = cib_545 < t_545\n",
    "    frac_high_masked.append(float(((~mask_545) & (~mask_145)).sum())/(~mask_545).sum())\n",
    "    #frac_545_masked_by_145 = float(((~mask_545) & (~mask_145)).sum())/(~mask_545).sum()\n",
    "    #frac_145_masked_by_545 = float(((~mask_145) & (~mask_545)).sum())/(~mask_145).sum()\n",
    "    #print(frac_545_masked_by_145)\n",
    "    #print(frac_145_masked_by_545)"
   ]
  },
  {
   "cell_type": "code",
   "execution_count": 11,
   "id": "01e1523e-852e-4eda-b2f4-bc606cf856d2",
   "metadata": {},
   "outputs": [
    {
     "name": "stdout",
     "output_type": "stream",
     "text": [
      "[16.086520602682437, 6.523766298640471, 2.8082209797772837, 1.9343742261117038, 1.5078847263040362]\n",
      "[1085.318250945172, 426.7570846062674, 165.99489263371012, 81.12887092445219, 56.417418315498516]\n"
     ]
    }
   ],
   "source": [
    "print(flux_thresholds_145)\n",
    "print(flux_thresholds_545)"
   ]
  },
  {
   "cell_type": "code",
   "execution_count": 16,
   "id": "b3b69d66-15bd-4314-b603-be7ed2d5aa4f",
   "metadata": {},
   "outputs": [
    {
     "name": "stdout",
     "output_type": "stream",
     "text": [
      "-1.7122558595817716 0.4613678416928325\n",
      "-3.4433774767716954 0.589472087796942\n",
      "-3.862520257066662 0.6368440101339125\n",
      "-4.130685727268288 0.6411650224817126\n",
      "-4.335184764516388 0.6465341214400859\n",
      "-4.505112428031924 0.6466942148760331\n",
      "-4.635981456665812 0.645327604726101\n",
      "-4.750139443593169 0.639843531712769\n",
      "-4.848447173204545 0.6450595655220743\n",
      "-4.937478184757201 0.6425806451612903\n"
     ]
    }
   ],
   "source": [
    "flux_thresholds_545 = np.linspace(50,1000,10)\n",
    "frac_high_545 = []\n",
    "frac_high_masked_145 = []\n",
    "for f in flux_thresholds_545:\n",
    "    mask_545 = get_mask(cib_545, f)\n",
    "    f_545 = float((~mask_545).sum())/len(mask_545)\n",
    "    frac_high_545.append(f_545)\n",
    "    percentile_145 = np.percentile(cib_145, (1-f_545)*100)\n",
    "    high_145 = cib_145 > percentile_145\n",
    "    f_145 = float((high_145 & (~mask_545)).sum()) / (high_145).sum()\n",
    "    print(np.log10(f_545), f_145)\n",
    "    frac_high_masked_145.append(f_145)"
   ]
  },
  {
   "cell_type": "code",
   "execution_count": 31,
   "id": "3381a663-ec6f-4f04-8a23-4d6be30c2466",
   "metadata": {},
   "outputs": [
    {
     "data": {
      "text/plain": [
       "Text(0, 0.5, 'fraction of the $f_{545}$ pixels masked at 145GHz')"
      ]
     },
     "execution_count": 31,
     "metadata": {},
     "output_type": "execute_result"
    },
    {
     "data": {
      "image/png": "[encoded data removed]",
      "text/plain": [
       "<Figure size 432x288 with 2 Axes>"
      ]
     },
     "metadata": {
      "needs_background": "light"
     },
     "output_type": "display_data"
    }
   ],
   "source": [
    "%matplotlib inline\n",
    "fig,ax = plt.subplots()\n",
    "\n",
    "frac_high_545 = np.array(frac_high_545)\n",
    "\n",
    "ax.plot(flux_thresholds_545, frac_high_masked_145)\n",
    "\n",
    "ax2 = ax.twiny()\n",
    "ax2.set_xlim(ax.get_xlim())\n",
    "ax2.set_xticks(flux_thresholds_545)\n",
    "ax2.set_xticklabels( [\"%.1e\"%f for f in  frac_high_545], rotation=90)\n",
    "ax.set_xlabel(\"flux cut at 545GHz\")\n",
    "ax2.set_xlabel(r\"$f_{545}$ = fraction of pixels masked at 545GHz\")\n",
    "ax.set_ylabel(r\"fraction of the $f_{545}$ pixels masked at 145GHz\")"
   ]
  },
  {
   "cell_type": "code",
   "execution_count": 20,
   "id": "32bfaba3-d662-48fa-846b-f5b4109b709d",
   "metadata": {},
   "outputs": [
    {
     "data": {
      "text/plain": [
       "[<matplotlib.lines.Line2D at 0x2aaada686490>]"
      ]
     },
     "execution_count": 20,
     "metadata": {},
     "output_type": "execute_result"
    },
    {
     "data": {
      "image/png": "[encoded data removed]",
      "text/plain": [
       "<Figure size 432x288 with 1 Axes>"
      ]
     },
     "metadata": {
      "needs_background": "light"
     },
     "output_type": "display_data"
    }
   ],
   "source": [
    "%matplotlib inline\n",
    "fig,ax = plt.subplots()\n",
    "ax.plot(flux_thresholds_545, -np.log10(frac_high_545))"
   ]
  },
  {
   "cell_type": "code",
   "execution_count": 18,
   "id": "d36bfd0d-454a-402f-a5b5-f151b1c3cae4",
   "metadata": {},
   "outputs": [],
   "source": [
    "lmax=2000\n",
    "mask_thresh_145 = 7.\n",
    "mask_thresh_545 = 350.\n",
    "\n",
    "cib_mask_145 = get_mask(cib_145, mask_thresh_145)\n",
    "cib_mask_545 = get_mask(cib_545, mask_thresh_545)"
   ]
  },
  {
   "cell_type": "code",
   "execution_count": 6,
   "id": "9b47611a-08ee-4981-beec-be8b4ac7f5e3",
   "metadata": {},
   "outputs": [],
   "source": [
    "def get_rl(map1, map2, lmax, mask=None, sub_mean=True):\n",
    "    if mask is None:\n",
    "        mask = np.ones_like(map1)\n",
    "    map1 = map1 - map1.mean()\n",
    "    map2 = map2 - map2.mean()\n",
    "    cl11 = hp.anafast(map1*mask, lmax=lmax)\n",
    "    cl22 = hp.anafast(map2*mask, lmax=lmax)\n",
    "    return hp.anafast(map1*mask, map2*mask, lmax=lmax) / np.sqrt(cl11*cl22)"
   ]
  },
  {
   "cell_type": "code",
   "execution_count": null,
   "id": "ed5ce20c-1ac1-4eaf-a438-2c39efb310c3",
   "metadata": {},
   "outputs": [],
   "source": [
    "rl_nomask = get_rl(t_145, t_545, lmax)\n",
    "rl_mask_145 = get_rl(t_145, t_545, lmax, mask=cib_mask_145)\n",
    "rl_mask_545 = get_rl(t_145, t_545, lmax, mask=cib_mask_545)"
   ]
  },
  {
   "cell_type": "code",
   "execution_count": null,
   "id": "fe2ab54c-ca68-490d-a817-4d80986d339f",
   "metadata": {},
   "outputs": [],
   "source": [
    "%matplotlib inline\n",
    "fig,ax = plt.subplots()\n",
    "ells = np.arange(lmax+1)\n",
    "ax.plot(ells, rl_nomask, label='no mask')\n",
    "ax.plot(ells, rl_mask_145, label='>%d mJY at 145GHz masked'%mask_thresh_145)\n",
    "ax.plot(ells, rl_mask_545, label='>%d mJY at 545GHz masked'%mask_thresh_545)\n",
    "ax.set_xlabel(\"L\")\n",
    "ax.set_ylabel(\"C_L^{12} / \\sqrt{C_L^{11}C_L{22}}\")"
   ]
  }
 ],
 "metadata": {
  "kernelspec": {
   "display_name": "LensPipe",
   "language": "python",
   "name": "lenspipe"
  },
  "language_info": {
   "codemirror_mode": {
    "name": "ipython",
    "version": 3
   },
   "file_extension": ".py",
   "mimetype": "text/x-python",
   "name": "python",
   "nbconvert_exporter": "python",
   "pygments_lexer": "ipython3",
   "version": "3.7.9"
  }
 },
 "nbformat": 4,
 "nbformat_minor": 5
}
