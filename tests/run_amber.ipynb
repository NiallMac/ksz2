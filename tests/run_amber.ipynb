{
 "cells": [
  {
   "cell_type": "markdown",
   "id": "ee8d0399-15dd-4a94-86b6-f96e85971ca0",
   "metadata": {},
   "source": [
    "Run the kSZ 4-point estimator on the Amber simulations"
   ]
  },
  {
   "cell_type": "code",
   "execution_count": 1,
   "id": "4dd21693-1714-40fd-8072-940f08a30ddd",
   "metadata": {
    "tags": []
   },
   "outputs": [],
   "source": [
    "from os.path import join as opj\n",
    "import os\n",
    "os.environ[\"DISABLE_MPI\"]=\"true\"\n",
    "from ksz4.cross import four_split_K, split_phi_to_cl, mcrdn0_s4\n",
    "from ksz4.reconstruction import  setup_ABCD_recon, get_cl_smooth\n",
    "from pixell import curvedsky, enmap\n",
    "from scipy.signal import savgol_filter\n",
    "from cmbsky import safe_mkdir, get_disable_mpi, ClBinner\n",
    "from falafel import utils, qe\n",
    "import healpy as hp\n",
    "import yaml\n",
    "import argparse\n",
    "from orphics import maps, mpi\n",
    "import numpy as np\n",
    "import pickle\n",
    "from string import Template\n",
    "from pytempura import noise_spec\n",
    "import glob\n",
    "import matplotlib.pyplot as plt"
   ]
  },
  {
   "cell_type": "markdown",
   "id": "8b0bee3f-f4d8-47ad-b7de-ffa9e56d3967",
   "metadata": {},
   "source": [
    "- First thing I'm going to do is convert the maps to alms so we don't have to do that every time (comment out save_alms below)"
   ]
  },
  {
   "cell_type": "code",
   "execution_count": null,
   "id": "a1c28032-b75a-4e58-b668-9d68b1e8bf81",
   "metadata": {},
   "outputs": [],
   "source": []
  },
  {
   "cell_type": "code",
   "execution_count": 2,
   "id": "d5533e34-ae0d-49e1-b053-21af10db044d",
   "metadata": {},
   "outputs": [
    {
     "data": {
      "text/plain": [
       "Text(0, 0.5, '$l(l+1)/2\\\\pi C_l$ muK^2')"
      ]
     },
     "execution_count": 2,
     "metadata": {},
     "output_type": "execute_result"
    },
    {
     "data": {
      "image/png": "[encoded data removed]",
      "text/plain": [
       "<Figure size 640x480 with 1 Axes>"
      ]
     },
     "metadata": {},
     "output_type": "display_data"
    }
   ],
   "source": [
    "%matplotlib inline \n",
    "\n",
    "fig,ax=plt.subplots()\n",
    "\n",
    "lmax=5000\n",
    "alm = hp.read_alm(\"/global/cfs/projectdirs/act/data/maccrann/amber/output_z=7.00_D=4.00_A=3.00_M=1E8_l=3.00ksz_alm_lmax8000.fits\")\n",
    "cl_amber = curvedsky.alm2cl(alm)[:lmax+1]\n",
    "ells = np.arange(lmax+1)\n",
    "\n",
    "\n",
    "ax.plot(ells, ells*(ells+1)*cl_amber/2/np.pi)\n",
    "ax.set_yscale('log')\n",
    "ax.set_xlabel(\"$l$\")\n",
    "ax.set_ylabel(\"$l(l+1)/2\\pi C_l$ muK^2\")"
   ]
  },
  {
   "cell_type": "code",
   "execution_count": 3,
   "id": "29831fe9-f97f-4a1d-8266-91d8e85cb765",
   "metadata": {
    "tags": []
   },
   "outputs": [
    {
     "name": "stdout",
     "output_type": "stream",
     "text": [
      "/global/cfs/projectdirs/act/data/maccrann/amber/output_z=8.00_D=4.00_A=3.00_M=1E8_l=3.00ksz_alm_lmax8000.fits\n"
     ]
    }
   ],
   "source": [
    "sim_dir = \"/global/cfs/cdirs/cmb/data/generic/extragalactic/amber/\"\n",
    "output_alm_dir = \"/global/cfs/projectdirs/act/data/maccrann/amber\"\n",
    "\n",
    "sim_map_files = glob.glob(opj(sim_dir, \"output*\", \"cmb\", \"map_ksz_nside=4096.fits\"))\n",
    "sim_tags = [f.split(\"/\")[-3] for f in sim_map_files]\n",
    "lmax_alm=8000\n",
    "sim_alm_files = [opj(output_alm_dir, sim_tag+\"ksz_alm_lmax%d.fits\"%(lmax_alm)) for sim_tag in sim_tags]\n",
    "print(sim_alm_files[0])"
   ]
  },
  {
   "cell_type": "code",
   "execution_count": 4,
   "id": "fe1590f0-72b0-4a1b-84c3-7b807f9f4936",
   "metadata": {
    "tags": []
   },
   "outputs": [
    {
     "ename": "SyntaxError",
     "evalue": "invalid syntax (1431680005.py, line 1)",
     "output_type": "error",
     "traceback": [
      "\u001b[0;36m  Cell \u001b[0;32mIn[4], line 1\u001b[0;36m\u001b[0m\n\u001b[0;31m    tcmb =\u001b[0m\n\u001b[0m           ^\u001b[0m\n\u001b[0;31mSyntaxError\u001b[0m\u001b[0;31m:\u001b[0m invalid syntax\n"
     ]
    }
   ],
   "source": [
    "tcmb = \n",
    "def save_alms():\n",
    "    safe_mkdir(output_alm_dir)\n",
    "    for f_map,f_alm in zip(sim_map_files, sim_alm_files):\n",
    "        print(f_map)\n",
    "        m = hp.read_map(f_map)\n",
    "        \n",
    "        alm = hp.map2alm(m, lmax=lmax_alm)\n",
    "        hp.write_alm(f_alm, alm)\n",
    "\n",
    "#Uncomment the below if this is the first time running!!!\n",
    "#save_alms()\n",
    "#do_stuff"
   ]
  },
  {
   "cell_type": "markdown",
   "id": "dd3e3a95-5c83-4935-9092-edcc5de5b8b8",
   "metadata": {},
   "source": [
    "- First thing to decide is the filters to use. We generally want to use Cl_KSZ^0.5 / Cl_total\n",
    "- Probably less confusing to use the same filters for all the different simulations, so start by \n",
    "using the Alvarez Cl_KSZ."
   ]
  },
  {
   "cell_type": "code",
   "execution_count": null,
   "id": "f175ea2a-6144-40e4-bd81-fc7279d8d57e",
   "metadata": {
    "tags": []
   },
   "outputs": [],
   "source": [
    "cl_ksz_raw=np.load(\"../tests/cl_4e3_2048_50_50_ksz.npy\")\n",
    "cl_ksz = savgol_filter(cl_ksz_raw, 301, 2)\n",
    "#cl_ksz_raw = hp.alm2cl( hp.read_alm(sim_alm_files[0]) )\n",
    "#smooth this\n",
    "#cl_ksz = savgol_filter(cl_ksz_raw, 301, 2)\n",
    "#negative values in this causes nans, so I'm going to \n",
    "#set low ls to some constant - we don't use these anyway\n",
    "#cl_ksz[:1000] = cl_ksz[1000]"
   ]
  },
  {
   "cell_type": "code",
   "execution_count": null,
   "id": "adab0437-1297-4745-9d7d-1e1cf7ebda24",
   "metadata": {
    "tags": []
   },
   "outputs": [],
   "source": [
    "%matplotlib inline\n",
    "\n",
    "ls = np.arange(len(cl_ksz))\n",
    "lfac=ls*(ls+1)/2/np.pi\n",
    "\n",
    "fig,ax=plt.subplots()\n",
    "ax.plot(ls, lfac*cl_ksz)\n",
    "ax.set_yscale('log')"
   ]
  },
  {
   "cell_type": "code",
   "execution_count": null,
   "id": "06466731-b87a-4249-9a00-7cac685ed738",
   "metadata": {},
   "outputs": [],
   "source": [
    "%matplotlib inline\n",
    "\n",
    "#amber cl\n",
    "alm_amber_0 = hp.read_alm(sim_alm_files[0])\n",
    "cl_amber_0 = curvedsky.alm2cl(alm_amber_0)\n",
    "fig,ax=plt.subplots()\n",
    "\n",
    "ax.plot(cl_amber_0)\n",
    "ax.set_yscale('log')"
   ]
  },
  {
   "cell_type": "markdown",
   "id": "8a0aef5f-bb91-4908-a0f5-2b3e062f36bd",
   "metadata": {},
   "source": [
    "Few more options to set here:\n",
    "- Noise level (let's assume white noise)\n",
    "- lmin and lmax \n",
    "- Think that's it really\n",
    "- oh and beam"
   ]
  },
  {
   "cell_type": "code",
   "execution_count": null,
   "id": "7120fa1f-169c-4517-b851-1c5b887b8f51",
   "metadata": {
    "tags": []
   },
   "outputs": [],
   "source": [
    "noise_sigma = 10.  #muK arcmin\n",
    "beam_fwhm = 1.5 #arcmin\n",
    "lmin = 3000\n",
    "lmax = 6000\n",
    "mlmax = 5000\n",
    "px=qe.pixelization(nside=4096)"
   ]
  },
  {
   "cell_type": "markdown",
   "id": "dfde42f4-5874-45c6-b706-bccdd57f3753",
   "metadata": {},
   "source": [
    "- Get beam, noise and total Cl"
   ]
  },
  {
   "cell_type": "code",
   "execution_count": null,
   "id": "abdb40bc-dd50-4edf-9462-c1bca7dc499d",
   "metadata": {
    "tags": []
   },
   "outputs": [],
   "source": [
    "ells = np.arange(mlmax+1)\n",
    "beam = maps.gauss_beam(ells, beam_fwhm)\n",
    "Nl_tt = (noise_sigma*np.pi/180./60.)**2./beam**2\n",
    "nells = {\"TT\":Nl_tt, \"EE\":2*Nl_tt, \"BB\":2*Nl_tt}\n",
    "_,tcls = utils.get_theory_dicts(grad=True, nells=nells, lmax=mlmax)\n",
    "Cl_tot_theory = tcls[\"TT\"][:mlmax+1] + cl_ksz[:mlmax+1] #add kSZ to total Cl\n",
    "\n",
    "#Could also use total Cl from data...\n",
    "#with open(\"/pscratch/sd/m/maccrann/ksz_outputs/test_hilc_hilc-tszandcibd_hilc_hilc_dr6lens_ilc-rerun_lmax4000_w217_v12.10.23_wpb_fullsimrdn0/auto_outputs.pkl\",\"rb\") as f:\n",
    "#    auto_outputs = pickle.load(f)\n",
    "#Cl_tot = auto_outputs[\"cltot_A\"]\n",
    "Cl_tot = Cl_tot_theory\n"
   ]
  },
  {
   "cell_type": "code",
   "execution_count": null,
   "id": "3179a2d4-5409-4b95-bc59-6ac60862e1fc",
   "metadata": {
    "tags": []
   },
   "outputs": [],
   "source": [
    "#setup the estimators etc.\n",
    "#I'm using the most general setup here (which allows for 4 different maps).\n",
    "#But here we're just using the same map in each leg hence all those Cl_tot\n",
    "#arguments are the same. \n",
    "profile_hack=True\n",
    "if profile_hack:\n",
    "    cl_ksz[:lmin] = cl_ksz[lmin]\n",
    "\n",
    "recon_setup = setup_ABCD_recon(px, lmin, lmax, mlmax,\n",
    "                      cl_ksz[:mlmax+1], Cl_tot, Cl_tot,\n",
    "                      Cl_tot, Cl_tot,\n",
    "                      Cl_tot, Cl_tot,\n",
    "                      Cl_tot, Cl_tot, do_lh=True,\n",
    "                      do_psh=False)"
   ]
  },
  {
   "cell_type": "markdown",
   "id": "6662cfde-fb52-4072-9abc-d8201045339d",
   "metadata": {},
   "source": [
    "recon_setup is a dictionary that contains various things (including the \"qfuncs\") we need to run the estimator on the data, and als\n",
    "funtions for getting theory N0s. So now we're ready to read in maps and run on them."
   ]
  },
  {
   "cell_type": "code",
   "execution_count": null,
   "id": "73042a79-9cd2-42bd-8ab0-5e4740d90e7e",
   "metadata": {
    "tags": []
   },
   "outputs": [],
   "source": [
    "CL_KK_stuff = {}\n",
    "\n",
    "K_outdir=\"/pscratch/sd/m/maccrann/ksz_outputs/amber_Ks/amber_Ks_04.12.23_profile-hack\"\n",
    "safe_mkdir(K_outdir)\n",
    "\n",
    "n_sim_to_run = 2 #just going to run the first two sims for now\n",
    "for sim_tag, alm_file in zip(sim_tags[:n_sim_to_run], sim_alm_files):\n",
    "    print(sim_tag)\n",
    "    CL_KK_stuff[sim_tag] = {}\n",
    "    #read in map, convert to alms, and filter\n",
    "    alm = hp.read_alm(alm_file)\n",
    "    alm_Af = recon_setup[\"filter_A\"](alm) #note only need to use filter_A since all legs the same here\n",
    "    \n",
    "    K = recon_setup[\"qfunc_K_AB\"](alm_Af, alm_Af)\n",
    "    CL_KK_stuff[sim_tag][\"CL_KK_raw\"] = curvedsky.alm2cl(K,K)\n",
    "\n",
    "    #Also need N0. setup_recon has a function to calculate this, but needs the power of the simulation\n",
    "    cl_sim_raw = curvedsky.alm2cl(alm) \n",
    "    #again, smooth this. probably unnecessary?\n",
    "    cl_sim = savgol_filter(cl_sim_raw, 301, 2)\n",
    "    \n",
    "    trispectrum_N0 = recon_setup[\"get_fg_trispectrum_N0_ABCD\"](cl_sim, cl_sim, cl_sim, cl_sim)\n",
    "    CL_KK_stuff[sim_tag][\"N0\"] = trispectrum_N0\n",
    "    CL_KK_stuff[sim_tag][\"CL_KK\"] = CL_KK_stuff[sim_tag][\"CL_KK_raw\"] - CL_KK_stuff[sim_tag][\"N0\"]\n",
    "    CL_KK_stuff[sim_tag][\"profile\"] = recon_setup[\"profile\"]\n",
    "    \n",
    "    \n",
    "    #Also save K for Derby\n",
    "    hp.write_alm(opj(K_outdir, \"K_%s.fits\"%sim_tag), K)\n",
    "    "
   ]
  },
  {
   "cell_type": "code",
   "execution_count": null,
   "id": "91353735-837c-432c-b697-6dc032702660",
   "metadata": {},
   "outputs": [],
   "source": [
    "%matplotlib inline\n",
    "\n",
    "cl_amber=curvedsky.alm2cl(alm)"
   ]
  },
  {
   "cell_type": "code",
   "execution_count": null,
   "id": "40f19529-c45a-46de-acd8-4a61cad57ed5",
   "metadata": {
    "tags": []
   },
   "outputs": [],
   "source": [
    "import pickle\n",
    "with open(opj(K_outdir, \"amber_auto_data_test.pkl\"), \"wb\") as f:\n",
    "    pickle.dump(CL_KK_stuff, f)"
   ]
  },
  {
   "cell_type": "code",
   "execution_count": null,
   "id": "c625914f-1480-402f-8dad-42604445b1ba",
   "metadata": {
    "tags": []
   },
   "outputs": [],
   "source": [
    "#print(binner.bin_mids)\n",
    "print( CL_KK_stuff[\"output_z=8.00_D=4.00_A=3.00_M=1E8_l=5.00\"][\"CL_KK_raw\"] )"
   ]
  },
  {
   "cell_type": "code",
   "execution_count": null,
   "id": "2add94f1-3e6f-4aa1-9aa9-bfa5e055d8fc",
   "metadata": {
    "tags": []
   },
   "outputs": [],
   "source": [
    "%matplotlib inline\n",
    "\n",
    "fig,ax=plt.subplots()\n",
    "\n",
    "binner = ClBinner(lmin=5, lmax=200, nbin=10, log=True)\n",
    "\n",
    "profile = recon_setup[\"profile\"]\n",
    "for sim_tag in sim_tags[:n_sim_to_run]:\n",
    "    CL_KK = (CL_KK_stuff[sim_tag][\"CL_KK_raw\"] - CL_KK_stuff[sim_tag][\"N0\"])/profile**2\n",
    "    ax.plot(binner.bin_mids, binner.bin_mids**2*binner(CL_KK),\n",
    "           label=sim_tag)\n",
    "    #ax.plot(binner.bin_mids, binner.bin_mids**2*binner(CL_KK_stuff[sim_tag][\"CL_KK_raw\"]), \n",
    "    #       label=sim_tag)\n",
    "ax.set_yscale('log')\n",
    "ax.set_xscale('log')\n",
    "ax.set_xlabel(r\"$L$\")\n",
    "ax.set_ylabel(r\"$C_L^{KK}$\")\n",
    "ax.legend()"
   ]
  },
  {
   "cell_type": "code",
   "execution_count": null,
   "id": "3841752e-2db5-47a7-80dc-bbeae021de3e",
   "metadata": {},
   "outputs": [],
   "source": [
    "with open(\"/global/cfs/projectdirs/act/data/maccrann/amber_Ks/amber_Ks_13.12.23/\""
   ]
  }
 ],
 "metadata": {
  "kernelspec": {
   "display_name": "lenspipe_new",
   "language": "python",
   "name": "env"
  },
  "language_info": {
   "codemirror_mode": {
    "name": "ipython",
    "version": 3
   },
   "file_extension": ".py",
   "mimetype": "text/x-python",
   "name": "python",
   "nbconvert_exporter": "python",
   "pygments_lexer": "ipython3",
   "version": "3.10.14"
  }
 },
 "nbformat": 4,
 "nbformat_minor": 5
}
